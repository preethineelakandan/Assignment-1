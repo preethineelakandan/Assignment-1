{
 "cells": [
  {
   "cell_type": "markdown",
   "id": "ee6e5371-3bed-445e-8f3f-73328a10bd28",
   "metadata": {},
   "source": [
    "Assignment 1"
   ]
  },
  {
   "cell_type": "markdown",
   "id": "f61bc778-c868-4fe3-b73b-8135f0db7867",
   "metadata": {},
   "source": [
    "1. Create a variable x and assign it the value 5. Print the value of x"
   ]
  },
  {
   "cell_type": "code",
   "execution_count": 7,
   "id": "be148d44-bc9f-4644-816e-e9777b2b9060",
   "metadata": {},
   "outputs": [
    {
     "name": "stdout",
     "output_type": "stream",
     "text": [
      "5\n"
     ]
    }
   ],
   "source": [
    "x = 5\n",
    "print(x)"
   ]
  },
  {
   "cell_type": "markdown",
   "id": "3f709647-57b3-48ae-a17f-dd904d20e16e",
   "metadata": {},
   "source": [
    "2 Create two variables a and b, and assign them values 3 and 2 respectively. Add a and b together and print the\n",
    "result."
   ]
  },
  {
   "cell_type": "code",
   "execution_count": 5,
   "id": "06691124-7f26-4821-97c7-d779718bed15",
   "metadata": {},
   "outputs": [
    {
     "name": "stdout",
     "output_type": "stream",
     "text": [
      "5\n"
     ]
    }
   ],
   "source": [
    "a = 3\n",
    "b = 2\n",
    "c = a + b\n",
    "print(c)"
   ]
  },
  {
   "cell_type": "markdown",
   "id": "1d2ece3b-b1b3-47e0-a5f4-1207bd5ba530",
   "metadata": {},
   "source": [
    "3. Create a variable pi and assign it the value 3.14159. Print the value of pi"
   ]
  },
  {
   "cell_type": "code",
   "execution_count": 8,
   "id": "36da168c-834c-4d3c-a266-768d8c4898f0",
   "metadata": {},
   "outputs": [
    {
     "name": "stdout",
     "output_type": "stream",
     "text": [
      "3.14159\n"
     ]
    }
   ],
   "source": [
    "pi = 3.14159\n",
    "print(pi)"
   ]
  },
  {
   "cell_type": "markdown",
   "id": "96567a46-9997-4ce2-b00f-4a6a85112470",
   "metadata": {},
   "source": [
    "4. Create a variable radius and assign it the value 5. Calculate the area of a circle with radius radius using the\n",
    "formula pi * radius ** 2 and print the result.\n"
   ]
  },
  {
   "cell_type": "code",
   "execution_count": 9,
   "id": "be38ba66-4f51-4440-806d-ec92ffc34261",
   "metadata": {},
   "outputs": [
    {
     "name": "stdout",
     "output_type": "stream",
     "text": [
      "The area of the circle with radius 5 is: 78.53975\n"
     ]
    }
   ],
   "source": [
    "\n",
    "radius = 5\n",
    "pi = 3.14159\n",
    "area = pi * radius ** 2\n",
    "print(\"The area of the circle with radius\", radius, \"is:\", area)\n"
   ]
  },
  {
   "cell_type": "markdown",
   "id": "a0ba1ec7-5dc1-4316-9a37-cf6e5a3f3d4d",
   "metadata": {},
   "source": [
    "5. Create a variable name and assign it your name as a string. Print a greeting using your name, such as \"Hello,\n",
    "[name]!\"\n"
   ]
  },
  {
   "cell_type": "code",
   "execution_count": 10,
   "id": "bfd48f1e-fa3f-4ecf-ac45-63073de6a240",
   "metadata": {},
   "outputs": [
    {
     "name": "stdout",
     "output_type": "stream",
     "text": [
      "Hello, preethi!\n"
     ]
    }
   ],
   "source": [
    "name = \"preethi\"\n",
    "print(\"Hello, \" , name , \"!\")"
   ]
  },
  {
   "cell_type": "markdown",
   "id": "e60efcb2-3360-4f37-900b-a5d296328844",
   "metadata": {},
   "source": [
    "6. Create a variable age and assign it your age as an integer. Print a sentence that includes your age, such as \"I am\n",
    "[age] years old.\"\n"
   ]
  },
  {
   "cell_type": "code",
   "execution_count": 11,
   "id": "f6eeb28c-6f39-42fa-aa38-2f8f9a3606b3",
   "metadata": {},
   "outputs": [
    {
     "name": "stdout",
     "output_type": "stream",
     "text": [
      "I am 20 years old.\n"
     ]
    }
   ],
   "source": [
    "age = 20\n",
    "print(\"I am\", age, \"years old.\")"
   ]
  },
  {
   "cell_type": "markdown",
   "id": "8f6b4e5a-2ed6-4e62-b236-f0ff71850824",
   "metadata": {},
   "source": [
    "7. Create a variable height and assign it your height in meters as a float. Print a sentence that includes your\n",
    "height, such as \"I am [height] meters tall."
   ]
  },
  {
   "cell_type": "code",
   "execution_count": 12,
   "id": "558be330-ded5-4095-9d38-2ca2800298e7",
   "metadata": {},
   "outputs": [
    {
     "name": "stdout",
     "output_type": "stream",
     "text": [
      "I am 1.68 meters tall.\n"
     ]
    }
   ],
   "source": [
    "height = 1.68\n",
    "print(\"I am\", height, \"meters tall.\")"
   ]
  },
  {
   "cell_type": "markdown",
   "id": "fdcd224c-e050-4cf6-b423-cb24e6326739",
   "metadata": {},
   "source": [
    "8. Create a variable sentence and assign it a sentence as a string. Print the first letter of the sentence"
   ]
  },
  {
   "cell_type": "code",
   "execution_count": 13,
   "id": "41dc3772-31f2-4cc6-a1ec-6e61da4671a6",
   "metadata": {},
   "outputs": [
    {
     "name": "stdout",
     "output_type": "stream",
     "text": [
      "The first letter of the sentence is: H\n"
     ]
    }
   ],
   "source": [
    "sentence = \"He doesn't like vegetables.\"\n",
    "first_letter = sentence[0]\n",
    "print(\"The first letter of the sentence is:\", first_letter)"
   ]
  },
  {
   "cell_type": "markdown",
   "id": "30a4a7a3-f234-4aa4-b9db-f26e233aa515",
   "metadata": {},
   "source": [
    "9. Create a variable sentence and assign it a sentence as a string. Print the last letter of the sentence.\n"
   ]
  },
  {
   "cell_type": "code",
   "execution_count": 14,
   "id": "fe4071a7-1db9-4ba8-a262-50e089383085",
   "metadata": {},
   "outputs": [
    {
     "name": "stdout",
     "output_type": "stream",
     "text": [
      "The last letter of the sentence is: y\n"
     ]
    }
   ],
   "source": [
    "sentence = \"How stunning is the weather today\"\n",
    "last_letter = sentence[-1]\n",
    "print(\"The last letter of the sentence is:\", last_letter)"
   ]
  },
  {
   "cell_type": "markdown",
   "id": "022e46cb-d880-4159-9ad7-f59d12e5399d",
   "metadata": {},
   "source": [
    "10. Create a variable sentence and assign it a sentence as a string. Print the length of the sentence"
   ]
  },
  {
   "cell_type": "code",
   "execution_count": 15,
   "id": "682e3d9e-a0a2-4505-beb2-0207b7a411bb",
   "metadata": {},
   "outputs": [
    {
     "name": "stdout",
     "output_type": "stream",
     "text": [
      "The length of the sentence is: 32\n"
     ]
    }
   ],
   "source": [
    "sentence = \"I need to go to the shops today.\"\n",
    "sentence_length = len(sentence)\n",
    "print(\"The length of the sentence is:\", sentence_length)"
   ]
  },
  {
   "cell_type": "code",
   "execution_count": null,
   "id": "29b7516b-2367-4c1a-9a6d-e25cf3c91c5d",
   "metadata": {},
   "outputs": [],
   "source": []
  }
 ],
 "metadata": {
  "kernelspec": {
   "display_name": "Python 3 (ipykernel)",
   "language": "python",
   "name": "python3"
  },
  "language_info": {
   "codemirror_mode": {
    "name": "ipython",
    "version": 3
   },
   "file_extension": ".py",
   "mimetype": "text/x-python",
   "name": "python",
   "nbconvert_exporter": "python",
   "pygments_lexer": "ipython3",
   "version": "3.11.5"
  }
 },
 "nbformat": 4,
 "nbformat_minor": 5
}
