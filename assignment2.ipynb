{
 "cells": [
  {
   "cell_type": "markdown",
   "id": "d55c6dea-75b3-4dae-bfbb-ef3d00ef613b",
   "metadata": {},
   "source": [
    "# ASSIGNMENT 2"
   ]
  },
  {
   "cell_type": "code",
   "execution_count": null,
   "id": "aa08dff0-511c-4ffd-a325-992f6744c91e",
   "metadata": {},
   "outputs": [],
   "source": [
    "## Function"
   ]
  },
  {
   "cell_type": "markdown",
   "id": "edae8e46-d698-4521-9ff5-fb1260843e01",
   "metadata": {},
   "source": [
    "1. write a function add_number that takes two number as argument and returns their sum"
   ]
  },
  {
   "cell_type": "code",
   "execution_count": 16,
   "id": "4b2747f1-dc8d-446b-9f69-dfa7ef509f2c",
   "metadata": {},
   "outputs": [
    {
     "name": "stdout",
     "output_type": "stream",
     "text": [
      "the sum of 8 and 10 is: 18\n"
     ]
    }
   ],
   "source": [
    "def add_numbers(num1, num2):\n",
    "    return num1 + num2\n",
    "number1 = 8\n",
    "number2 = 10\n",
    "sum= add_numbers(number1, number2)\n",
    "print(\"the sum of\",number1,\"and\" , number2,\"is:\" ,sum)"
   ]
  },
  {
   "cell_type": "markdown",
   "id": "ae297706-f420-4141-bc25-7f5a9a7b173a",
   "metadata": {},
   "source": [
    "2. write a function multiply_number that takes two number as argument and returns their product"
   ]
  },
  {
   "cell_type": "code",
   "execution_count": 17,
   "id": "60a2fca0-8cd4-4f0c-8981-3e6bc77e0618",
   "metadata": {},
   "outputs": [
    {
     "name": "stdout",
     "output_type": "stream",
     "text": [
      "the multiply of 2 and 10 is: 20\n"
     ]
    }
   ],
   "source": [
    "def multiply_numbers(num1, num2):\n",
    "    return num1 * num2\n",
    "number1 = 2\n",
    "number2 = 10\n",
    "product= multiply_numbers(number1, number2)\n",
    "print(\"the multiply of\",number1,\"and\" , number2,\"is:\" ,product)"
   ]
  },
  {
   "cell_type": "markdown",
   "id": "e06c5ec8-0ef9-4e28-ae95-652dae1dd886",
   "metadata": {},
   "source": [
    "3. write a function divide_number that takes two number as argument and returns their quotient.make sure to handle the case where the second number is 0"
   ]
  },
  {
   "cell_type": "code",
   "execution_count": 20,
   "id": "1b0fde9b-aa4e-4de6-b80d-ffa30b40bebd",
   "metadata": {},
   "outputs": [
    {
     "name": "stdout",
     "output_type": "stream",
     "text": [
      "the divide of 23 and 5 is: 4.6\n"
     ]
    }
   ],
   "source": [
    "def divide_numbers(num1, num2):\n",
    "    if num2 == 0:\n",
    "        print(\"Cannot divide by zero\")\n",
    "        return None\n",
    "    else:\n",
    "        return num1 / num2\n",
    "number1 = 23\n",
    "number2 = 5\n",
    "\n",
    "quotient = divide_numbers(number1, number2)\n",
    "if quotient is not None:\n",
    "    print(\"the divide of\",number1,\"and\", number2,\"is:\",quotient)\n"
   ]
  },
  {
   "cell_type": "markdown",
   "id": "d0afd9be-59e8-49d2-91ba-2cc530a18980",
   "metadata": {},
   "source": [
    "4. write a function calculate_average that takes a list of numbers as an argument and returns their average"
   ]
  },
  {
   "cell_type": "code",
   "execution_count": 1,
   "id": "bfcf4ccd-aaf4-4889-9d51-1df992ca7111",
   "metadata": {},
   "outputs": [
    {
     "name": "stdout",
     "output_type": "stream",
     "text": [
      "The average of the list [9, 20, 15, 29, 45] is: 23.6\n"
     ]
    }
   ],
   "source": [
    "def calculate_average(numbers):\n",
    "    return sum(numbers) / len(numbers)\n",
    "\n",
    "my_list = [9, 20, 15, 29, 45]\n",
    "average = calculate_average(my_list)\n",
    "print(\"The average of the list\", my_list, \"is:\", average)\n"
   ]
  },
  {
   "cell_type": "markdown",
   "id": "305be1b2-6ec4-4255-844c-a486ad80e29f",
   "metadata": {},
   "source": [
    "5. write a function is_prime that takes a number as an argument and retuns true if the number is prime and false otherwise"
   ]
  },
  {
   "cell_type": "code",
   "execution_count": 17,
   "id": "4c9f3f14-079b-4f2c-8638-57694f87fcaf",
   "metadata": {},
   "outputs": [
    {
     "name": "stdout",
     "output_type": "stream",
     "text": [
      "23 is prime: True\n"
     ]
    }
   ],
   "source": [
    "def is_prime(number):\n",
    "    if number < 2:\n",
    "        return False\n",
    "    for i in range(2, int(number**0.5) + 1):\n",
    "        if number % i == 0:\n",
    "            return False \n",
    "    return True \n",
    "num = 23\n",
    "Outcome = is_prime(num)\n",
    "print(num, \"is prime:\",Outcome)\n"
   ]
  },
  {
   "cell_type": "code",
   "execution_count": null,
   "id": "bd1b4166-8750-4468-9afd-e0c17f9cf814",
   "metadata": {},
   "outputs": [],
   "source": [
    "##OOPs"
   ]
  },
  {
   "cell_type": "markdown",
   "id": "6610c42e-62cd-4505-a88a-3dd0dc8aefbf",
   "metadata": {},
   "source": [
    "create a class bank attributes name and accounts.add methodes add_account, remove_account and get_total_balance that add an account as list , remove an account from the list, and return the total balance of all account ,respectivetly. "
   ]
  },
  {
   "cell_type": "code",
   "execution_count": 7,
   "id": "6d94a8d4-4b2b-4deb-a29c-9b63e8b62d6e",
   "metadata": {},
   "outputs": [
    {
     "name": "stdout",
     "output_type": "stream",
     "text": [
      "Overall bank balance: 13000\n",
      "Overall bank balance in the bank after removing an account: 5000\n"
     ]
    }
   ],
   "source": [
    "class Bank:\n",
    "    def __init__(self, name):\n",
    "        self.name = name\n",
    "        self.accounts = []\n",
    "\n",
    "    def add_account(self, account):\n",
    "        self.accounts.append(account)\n",
    "\n",
    "    def remove_account(self, account):\n",
    "        if account in self.accounts:\n",
    "            self.accounts.remove(account)\n",
    "        else:\n",
    "            print(\"Unable to find the account\")\n",
    "\n",
    "    def get_total_balance(self):\n",
    "        total_balance = 0\n",
    "        for account in self.accounts:\n",
    "            total_balance += account\n",
    "        return total_balance\n",
    "bank = Bank(\"indian Bank\")\n",
    "\n",
    "bank.add_account(5000)\n",
    "bank.add_account(8000)\n",
    "\n",
    "print(\"Overall bank balance:\", bank.get_total_balance())\n",
    "\n",
    "bank.remove_account(8000)\n",
    "\n",
    "print(\"Overall bank balance in the bank after removing an account:\", bank.get_total_balance())\n"
   ]
  },
  {
   "cell_type": "code",
   "execution_count": null,
   "id": "5b7a00e5-eb83-40ef-bd63-249803d43024",
   "metadata": {},
   "outputs": [],
   "source": []
  },
  {
   "cell_type": "code",
   "execution_count": null,
   "id": "9ff8b281-50b8-4d35-a9d5-79eeb1189490",
   "metadata": {},
   "outputs": [],
   "source": []
  }
 ],
 "metadata": {
  "kernelspec": {
   "display_name": "Python 3 (ipykernel)",
   "language": "python",
   "name": "python3"
  },
  "language_info": {
   "codemirror_mode": {
    "name": "ipython",
    "version": 3
   },
   "file_extension": ".py",
   "mimetype": "text/x-python",
   "name": "python",
   "nbconvert_exporter": "python",
   "pygments_lexer": "ipython3",
   "version": "3.11.5"
  }
 },
 "nbformat": 4,
 "nbformat_minor": 5
}
